{
 "cells": [
  {
   "cell_type": "code",
   "execution_count": 1,
   "metadata": {
    "collapsed": true
   },
   "outputs": [],
   "source": [
    "import numpy as np\n",
    "import csv\n",
    "import matplotlib.pyplot as plt\n",
    "%matplotlib inline\n",
    "import pandas as pd\n",
    "np.set_printoptions(precision=3)\n",
    "np.set_printoptions(suppress=True)\n",
    "from IPython.core.display import display"
   ]
  },
  {
   "cell_type": "code",
   "execution_count": 4,
   "metadata": {},
   "outputs": [],
   "source": [
    "#fsort = pd.read_csv('funnelsort_results.csv', header=None)\n",
    "stdsort = pd.read_csv('stdsort_results.csv', header=None)\n",
    "cols = ['Arrsize', 'Dataref', 'L1miss', \"LLmiss\", \"Time\"]\n",
    "stdsort.columns = cols\n",
    "#fsort.columns = cols\n",
    "fsort = []"
   ]
  },
  {
   "cell_type": "code",
   "execution_count": 5,
   "metadata": {},
   "outputs": [
    {
     "data": {
      "text/plain": [
       "[]"
      ]
     },
     "metadata": {},
     "output_type": "display_data"
    },
    {
     "data": {
      "text/html": [
       "<div>\n",
       "<style scoped>\n",
       "    .dataframe tbody tr th:only-of-type {\n",
       "        vertical-align: middle;\n",
       "    }\n",
       "\n",
       "    .dataframe tbody tr th {\n",
       "        vertical-align: top;\n",
       "    }\n",
       "\n",
       "    .dataframe thead th {\n",
       "        text-align: right;\n",
       "    }\n",
       "</style>\n",
       "<table border=\"1\" class=\"dataframe\">\n",
       "  <thead>\n",
       "    <tr style=\"text-align: right;\">\n",
       "      <th></th>\n",
       "      <th>Arrsize</th>\n",
       "      <th>Dataref</th>\n",
       "      <th>L1miss</th>\n",
       "      <th>LLmiss</th>\n",
       "      <th>Time</th>\n",
       "    </tr>\n",
       "  </thead>\n",
       "  <tbody>\n",
       "    <tr>\n",
       "      <th>0</th>\n",
       "      <td>1000000</td>\n",
       "      <td>1680432854</td>\n",
       "      <td>2707364</td>\n",
       "      <td>347802</td>\n",
       "      <td>13.2561</td>\n",
       "    </tr>\n",
       "    <tr>\n",
       "      <th>1</th>\n",
       "      <td>1500000</td>\n",
       "      <td>2528345568</td>\n",
       "      <td>4052514</td>\n",
       "      <td>3917949</td>\n",
       "      <td>22.1718</td>\n",
       "    </tr>\n",
       "    <tr>\n",
       "      <th>2</th>\n",
       "      <td>2000000</td>\n",
       "      <td>3419774749</td>\n",
       "      <td>5397763</td>\n",
       "      <td>5331577</td>\n",
       "      <td>29.0491</td>\n",
       "    </tr>\n",
       "    <tr>\n",
       "      <th>3</th>\n",
       "      <td>2500000</td>\n",
       "      <td>4234271883</td>\n",
       "      <td>6742984</td>\n",
       "      <td>6687678</td>\n",
       "      <td>33.7807</td>\n",
       "    </tr>\n",
       "    <tr>\n",
       "      <th>4</th>\n",
       "      <td>3000000</td>\n",
       "      <td>5168106812</td>\n",
       "      <td>8088275</td>\n",
       "      <td>8040118</td>\n",
       "      <td>42.4566</td>\n",
       "    </tr>\n",
       "    <tr>\n",
       "      <th>5</th>\n",
       "      <td>3500000</td>\n",
       "      <td>6040748797</td>\n",
       "      <td>9434205</td>\n",
       "      <td>9383820</td>\n",
       "      <td>47.8030</td>\n",
       "    </tr>\n",
       "    <tr>\n",
       "      <th>6</th>\n",
       "      <td>4000000</td>\n",
       "      <td>7256930771</td>\n",
       "      <td>11779081</td>\n",
       "      <td>11723240</td>\n",
       "      <td>63.9835</td>\n",
       "    </tr>\n",
       "    <tr>\n",
       "      <th>7</th>\n",
       "      <td>4500000</td>\n",
       "      <td>8118403013</td>\n",
       "      <td>13249352</td>\n",
       "      <td>13192661</td>\n",
       "      <td>69.9174</td>\n",
       "    </tr>\n",
       "    <tr>\n",
       "      <th>8</th>\n",
       "      <td>5000000</td>\n",
       "      <td>9080330730</td>\n",
       "      <td>14719639</td>\n",
       "      <td>14665210</td>\n",
       "      <td>85.9237</td>\n",
       "    </tr>\n",
       "    <tr>\n",
       "      <th>9</th>\n",
       "      <td>5500000</td>\n",
       "      <td>9992504874</td>\n",
       "      <td>16189160</td>\n",
       "      <td>16133946</td>\n",
       "      <td>78.0084</td>\n",
       "    </tr>\n",
       "    <tr>\n",
       "      <th>10</th>\n",
       "      <td>6000000</td>\n",
       "      <td>10917508724</td>\n",
       "      <td>17659861</td>\n",
       "      <td>17602740</td>\n",
       "      <td>94.9214</td>\n",
       "    </tr>\n",
       "    <tr>\n",
       "      <th>11</th>\n",
       "      <td>6500000</td>\n",
       "      <td>11873565218</td>\n",
       "      <td>19130104</td>\n",
       "      <td>19071483</td>\n",
       "      <td>106.3160</td>\n",
       "    </tr>\n",
       "    <tr>\n",
       "      <th>12</th>\n",
       "      <td>7000000</td>\n",
       "      <td>12789215711</td>\n",
       "      <td>20601280</td>\n",
       "      <td>20540173</td>\n",
       "      <td>113.3540</td>\n",
       "    </tr>\n",
       "    <tr>\n",
       "      <th>13</th>\n",
       "      <td>7500000</td>\n",
       "      <td>13982668927</td>\n",
       "      <td>22071118</td>\n",
       "      <td>22007812</td>\n",
       "      <td>107.0260</td>\n",
       "    </tr>\n",
       "  </tbody>\n",
       "</table>\n",
       "</div>"
      ],
      "text/plain": [
       "    Arrsize      Dataref    L1miss    LLmiss      Time\n",
       "0   1000000   1680432854   2707364    347802   13.2561\n",
       "1   1500000   2528345568   4052514   3917949   22.1718\n",
       "2   2000000   3419774749   5397763   5331577   29.0491\n",
       "3   2500000   4234271883   6742984   6687678   33.7807\n",
       "4   3000000   5168106812   8088275   8040118   42.4566\n",
       "5   3500000   6040748797   9434205   9383820   47.8030\n",
       "6   4000000   7256930771  11779081  11723240   63.9835\n",
       "7   4500000   8118403013  13249352  13192661   69.9174\n",
       "8   5000000   9080330730  14719639  14665210   85.9237\n",
       "9   5500000   9992504874  16189160  16133946   78.0084\n",
       "10  6000000  10917508724  17659861  17602740   94.9214\n",
       "11  6500000  11873565218  19130104  19071483  106.3160\n",
       "12  7000000  12789215711  20601280  20540173  113.3540\n",
       "13  7500000  13982668927  22071118  22007812  107.0260"
      ]
     },
     "metadata": {},
     "output_type": "display_data"
    }
   ],
   "source": [
    "display(fsort)\n",
    "display(stdsort)"
   ]
  },
  {
   "cell_type": "code",
   "execution_count": 9,
   "metadata": {},
   "outputs": [
    {
     "name": "stdout",
     "output_type": "stream",
     "text": [
      "stdsort\n"
     ]
    },
    {
     "data": {
      "image/png": "[encoded data removed]",
      "text/plain": [
       "<matplotlib.figure.Figure at 0x7f39fa293048>"
      ]
     },
     "metadata": {},
     "output_type": "display_data"
    },
    {
     "name": "stdout",
     "output_type": "stream",
     "text": [
      "[ 4000000  6000000  8000000 10000000 12000000 14000000 16000000 18000000\n",
      " 20000000 22000000 24000000 26000000 28000000 30000000]\n",
      "[ 2.719  2.617  2.55   2.501  2.463  2.431  2.628  2.602  2.58   2.561\n",
      "  2.543  2.527  2.513  2.499]\n",
      "[ 0.349  2.53   2.519  2.481  2.448  2.418  2.615  2.591  2.571  2.552\n",
      "  2.535  2.52   2.505  2.492]\n",
      "\n"
     ]
    }
   ],
   "source": [
    "N = stdsort['Arrsize'].values * 4 #because 4 bytes to an int\n",
    "B = 64\n",
    "plot_col = 'L1miss' #3 is LL, 2 is L1\n",
    "\n",
    "def M(col):\n",
    "    if col == 2:\n",
    "       return 32000\n",
    "    if col == 3:\n",
    "       return 4*int(1e6)\n",
    "\n",
    "std_sort = N/B * np.log2(N/B)\n",
    "sort_bound_L1 = N/B * np.log(N/B) / np.log(M(2)/B)\n",
    "sort_bound_LL = N/B * np.log(N/B) / np.log(M(3)/B)\n",
    "print(\"stdsort\")\n",
    "plt.scatter(N, stdsort[plot_col].values/std_sort)\n",
    "plt.show()\n",
    "print(N)\n",
    "print(stdsort['L1miss'].values/std_sort)\n",
    "print(stdsort['LLmiss'].values/std_sort)\n",
    "print()\n",
    "\n",
    "#print(\"funnelsort\")\n",
    "#plt.plot(np.log(N), fsort[plot_col].values/sort_bound)\n",
    "#plt.show()\n",
    "#print(fsort['L1miss'].values/sort_bound_L1)\n",
    "#print(fsort['LLmiss'].values/sort_bound_LL)"
   ]
  },
  {
   "cell_type": "code",
   "execution_count": null,
   "metadata": {
    "collapsed": true
   },
   "outputs": [],
   "source": []
  }
 ],
 "metadata": {
  "kernelspec": {
   "display_name": "Python 3",
   "language": "python",
   "name": "python3"
  },
  "language_info": {
   "codemirror_mode": {
    "name": "ipython",
    "version": 3
   },
   "file_extension": ".py",
   "mimetype": "text/x-python",
   "name": "python",
   "nbconvert_exporter": "python",
   "pygments_lexer": "ipython3",
   "version": "3.6.1"
  }
 },
 "nbformat": 4,
 "nbformat_minor": 2
}
