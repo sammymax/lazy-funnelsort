{
 "cells": [
  {
   "cell_type": "code",
   "execution_count": 47,
   "metadata": {
    "collapsed": true
   },
   "outputs": [],
   "source": [
    "import numpy as np\n",
    "import csv\n",
    "import matplotlib.pyplot as plt\n",
    "%matplotlib inline\n",
    "import pandas as pd\n",
    "np.set_printoptions(precision=3)\n",
    "np.set_printoptions(suppress=True)"
   ]
  },
  {
   "cell_type": "code",
   "execution_count": 48,
   "metadata": {},
   "outputs": [],
   "source": [
    "fsort = pd.read_csv('funnelsort_results.csv', header=None)\n",
    "stdsort = pd.read_csv('stdsort_results.csv', header=None)"
   ]
  },
  {
   "cell_type": "code",
   "execution_count": 49,
   "metadata": {},
   "outputs": [
    {
     "data": {
      "text/html": [
       "<div>\n",
       "<style scoped>\n",
       "    .dataframe tbody tr th:only-of-type {\n",
       "        vertical-align: middle;\n",
       "    }\n",
       "\n",
       "    .dataframe tbody tr th {\n",
       "        vertical-align: top;\n",
       "    }\n",
       "\n",
       "    .dataframe thead th {\n",
       "        text-align: right;\n",
       "    }\n",
       "</style>\n",
       "<table border=\"1\" class=\"dataframe\">\n",
       "  <thead>\n",
       "    <tr style=\"text-align: right;\">\n",
       "      <th></th>\n",
       "      <th>0</th>\n",
       "      <th>1</th>\n",
       "      <th>2</th>\n",
       "      <th>3</th>\n",
       "      <th>4</th>\n",
       "    </tr>\n",
       "  </thead>\n",
       "  <tbody>\n",
       "    <tr>\n",
       "      <th>0</th>\n",
       "      <td>100</td>\n",
       "      <td>888293</td>\n",
       "      <td>16469</td>\n",
       "      <td>9405</td>\n",
       "      <td>0.060042</td>\n",
       "    </tr>\n",
       "    <tr>\n",
       "      <th>1</th>\n",
       "      <td>200</td>\n",
       "      <td>1041033</td>\n",
       "      <td>16627</td>\n",
       "      <td>9507</td>\n",
       "      <td>0.057195</td>\n",
       "    </tr>\n",
       "    <tr>\n",
       "      <th>2</th>\n",
       "      <td>400</td>\n",
       "      <td>1524088</td>\n",
       "      <td>17106</td>\n",
       "      <td>9887</td>\n",
       "      <td>0.066246</td>\n",
       "    </tr>\n",
       "    <tr>\n",
       "      <th>3</th>\n",
       "      <td>1000</td>\n",
       "      <td>2808812</td>\n",
       "      <td>18078</td>\n",
       "      <td>10753</td>\n",
       "      <td>0.082067</td>\n",
       "    </tr>\n",
       "    <tr>\n",
       "      <th>4</th>\n",
       "      <td>2000</td>\n",
       "      <td>4790602</td>\n",
       "      <td>19558</td>\n",
       "      <td>11920</td>\n",
       "      <td>0.111457</td>\n",
       "    </tr>\n",
       "    <tr>\n",
       "      <th>5</th>\n",
       "      <td>4000</td>\n",
       "      <td>8392865</td>\n",
       "      <td>21948</td>\n",
       "      <td>13717</td>\n",
       "      <td>0.152910</td>\n",
       "    </tr>\n",
       "    <tr>\n",
       "      <th>6</th>\n",
       "      <td>8000</td>\n",
       "      <td>19936524</td>\n",
       "      <td>31903</td>\n",
       "      <td>21310</td>\n",
       "      <td>0.307218</td>\n",
       "    </tr>\n",
       "    <tr>\n",
       "      <th>7</th>\n",
       "      <td>20000</td>\n",
       "      <td>50835919</td>\n",
       "      <td>54309</td>\n",
       "      <td>38700</td>\n",
       "      <td>0.756640</td>\n",
       "    </tr>\n",
       "    <tr>\n",
       "      <th>8</th>\n",
       "      <td>1000000</td>\n",
       "      <td>3080624014</td>\n",
       "      <td>2218272</td>\n",
       "      <td>1705101</td>\n",
       "      <td>38.526000</td>\n",
       "    </tr>\n",
       "    <tr>\n",
       "      <th>9</th>\n",
       "      <td>2000000</td>\n",
       "      <td>6531878028</td>\n",
       "      <td>4572287</td>\n",
       "      <td>3693049</td>\n",
       "      <td>82.188200</td>\n",
       "    </tr>\n",
       "    <tr>\n",
       "      <th>10</th>\n",
       "      <td>4000000</td>\n",
       "      <td>12880880278</td>\n",
       "      <td>8481598</td>\n",
       "      <td>6686861</td>\n",
       "      <td>175.480000</td>\n",
       "    </tr>\n",
       "    <tr>\n",
       "      <th>11</th>\n",
       "      <td>6000000</td>\n",
       "      <td>19389254199</td>\n",
       "      <td>12791076</td>\n",
       "      <td>9837859</td>\n",
       "      <td>252.567000</td>\n",
       "    </tr>\n",
       "  </tbody>\n",
       "</table>\n",
       "</div>"
      ],
      "text/plain": [
       "          0            1         2        3           4\n",
       "0       100       888293     16469     9405    0.060042\n",
       "1       200      1041033     16627     9507    0.057195\n",
       "2       400      1524088     17106     9887    0.066246\n",
       "3      1000      2808812     18078    10753    0.082067\n",
       "4      2000      4790602     19558    11920    0.111457\n",
       "5      4000      8392865     21948    13717    0.152910\n",
       "6      8000     19936524     31903    21310    0.307218\n",
       "7     20000     50835919     54309    38700    0.756640\n",
       "8   1000000   3080624014   2218272  1705101   38.526000\n",
       "9   2000000   6531878028   4572287  3693049   82.188200\n",
       "10  4000000  12880880278   8481598  6686861  175.480000\n",
       "11  6000000  19389254199  12791076  9837859  252.567000"
      ]
     },
     "execution_count": 49,
     "metadata": {},
     "output_type": "execute_result"
    }
   ],
   "source": [
    "fsort"
   ]
  },
  {
   "cell_type": "code",
   "execution_count": 56,
   "metadata": {},
   "outputs": [
    {
     "data": {
      "image/png": "[encoded data removed]",
      "text/plain": [
       "<matplotlib.figure.Figure at 0x7f9680354e48>"
      ]
     },
     "metadata": {},
     "output_type": "display_data"
    },
    {
     "name": "stdout",
     "output_type": "stream",
     "text": [
      "[ 982.323  356.809  140.323   44.046   19.136    8.666    4.216    1.883\n",
      "    0.862    0.853    0.877    0.908]\n",
      "[ 560.575  203.63    80.106   25.146   10.912    4.896    2.287    0.914\n",
      "    0.196    0.338    0.4      0.429]\n"
     ]
    },
    {
     "data": {
      "image/png": "[encoded data removed]",
      "text/plain": [
       "<matplotlib.figure.Figure at 0x7f964aac55c0>"
      ]
     },
     "metadata": {},
     "output_type": "display_data"
    },
    {
     "name": "stdout",
     "output_type": "stream",
     "text": [
      "[ 8935.887  3272.886  1321.046   434.701   201.388    98.813    63.806\n",
      "    37.864    19.974    19.369    16.963    16.516]\n",
      "[ 9067.749  3325.3    1356.764   459.453   218.1     109.736    75.733\n",
      "    47.945    27.282    27.799    23.764    22.572]\n"
     ]
    }
   ],
   "source": [
    "N = fsort[0].values * 4 #because 4 bytes to an int\n",
    "B = 64\n",
    "col = 3 #3 is LL, 2 is L1\n",
    "#if col == 2:\n",
    "#    M = 32000\n",
    "#if col == 3:\n",
    "#    M = int(1e6)*4\n",
    "\n",
    "def M(col):\n",
    "    if col == 2:\n",
    "       return 32000\n",
    "    if col == 3:\n",
    "       return 4*int(1e6)\n",
    "\n",
    "std_sort = N/B * np.log2(N/B)\n",
    "sort_bound_L1 = N/B * np.log(N/B) / np.log(M(2)/B)\n",
    "sort_bound_LL = N/B * np.log(N/B) / np.log(M(3)/B)\n",
    "plt.plot(np.log(N), stdsort[col].values/std_sort)\n",
    "plt.show()\n",
    "print(stdsort[2].values/std_sort)\n",
    "print(stdsort[3].values/std_sort)\n",
    "plt.plot(np.log(N), fsort[col].values/sort_bound)\n",
    "plt.show()\n",
    "print(fsort[2].values/sort_bound_L1)\n",
    "print(fsort[3].values/sort_bound_LL)"
   ]
  },
  {
   "cell_type": "code",
   "execution_count": null,
   "metadata": {
    "collapsed": true
   },
   "outputs": [],
   "source": []
  }
 ],
 "metadata": {
  "kernelspec": {
   "display_name": "Python 3",
   "language": "python",
   "name": "python3"
  },
  "language_info": {
   "codemirror_mode": {
    "name": "ipython",
    "version": 3
   },
   "file_extension": ".py",
   "mimetype": "text/x-python",
   "name": "python",
   "nbconvert_exporter": "python",
   "pygments_lexer": "ipython3",
   "version": "3.6.1"
  }
 },
 "nbformat": 4,
 "nbformat_minor": 2
}
